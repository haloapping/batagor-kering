{
 "cells": [
  {
   "cell_type": "code",
   "execution_count": 4,
   "id": "45847435",
   "metadata": {
    "ExecuteTime": {
     "end_time": "2022-04-03T02:57:01.430742Z",
     "start_time": "2022-04-03T02:57:00.295839Z"
    }
   },
   "outputs": [],
   "source": [
    "import os\n",
    "\n",
    "from sklearn.metrics import accuracy_score\n",
    "\n",
    "from sktime.benchmarking.data import UEADataset, make_datasets\n",
    "from sktime.benchmarking.evaluation import Evaluator\n",
    "from sktime.benchmarking.metrics import PairwiseMetric\n",
    "from sktime.benchmarking.orchestration import Orchestrator\n",
    "from sktime.benchmarking.results import HDDResults\n",
    "from sktime.benchmarking.strategies import TSCStrategy\n",
    "from sktime.benchmarking.tasks import TSCTask\n",
    "from sktime.classification.interval_based import (\n",
    "    RandomIntervalSpectralEnsemble,\n",
    "    TimeSeriesForestClassifier\n",
    ")\n",
    "from sktime.series_as_features.model_selection import PresplitFilesCV"
   ]
  },
  {
   "cell_type": "code",
   "execution_count": 15,
   "id": "ad64b3a9",
   "metadata": {
    "ExecuteTime": {
     "end_time": "2022-04-03T03:04:52.820479Z",
     "start_time": "2022-04-03T03:04:52.801173Z"
    }
   },
   "outputs": [],
   "source": [
    "import sktime\n",
    "\n",
    "DATA_PATH = os.path.join(os.path.dirname(sktime.__file__), \"datasets/data\")\n",
    "RESULT_PATH = \"results\""
   ]
  },
  {
   "cell_type": "code",
   "execution_count": 16,
   "id": "035d6b3d",
   "metadata": {
    "ExecuteTime": {
     "end_time": "2022-04-03T03:04:53.280627Z",
     "start_time": "2022-04-03T03:04:53.269344Z"
    }
   },
   "outputs": [],
   "source": [
    "datasets = [\n",
    "    UEADataset(path=DATA_PATH, name=\"ArrowHead\"),\n",
    "    UEADataset(path=DATA_PATH, name=\"ItalyPowerDemand\")\n",
    "]"
   ]
  },
  {
   "cell_type": "code",
   "execution_count": 17,
   "id": "a924fc8d",
   "metadata": {
    "ExecuteTime": {
     "end_time": "2022-04-03T03:04:55.451028Z",
     "start_time": "2022-04-03T03:04:55.430802Z"
    }
   },
   "outputs": [],
   "source": [
    "datasets = make_datasets(\n",
    "    path=DATA_PATH, dataset_cls=UEADataset, names=[\"ArrowHead\", \"ItalyPowerDemand\"]\n",
    ")"
   ]
  },
  {
   "cell_type": "code",
   "execution_count": 18,
   "id": "6652fc2d",
   "metadata": {
    "ExecuteTime": {
     "end_time": "2022-04-03T03:04:55.860585Z",
     "start_time": "2022-04-03T03:04:55.832338Z"
    }
   },
   "outputs": [
    {
     "data": {
      "text/plain": [
       "[TSCTask(features=None, metadata=None, target='target'),\n",
       " TSCTask(features=None, metadata=None, target='target')]"
      ]
     },
     "execution_count": 18,
     "metadata": {},
     "output_type": "execute_result"
    }
   ],
   "source": [
    "tasks = [TSCTask(target=\"target\") for _ in range(len(datasets))]\n",
    "tasks"
   ]
  },
  {
   "cell_type": "code",
   "execution_count": 19,
   "id": "ed1730a7",
   "metadata": {
    "ExecuteTime": {
     "end_time": "2022-04-03T03:04:56.560605Z",
     "start_time": "2022-04-03T03:04:56.542097Z"
    }
   },
   "outputs": [],
   "source": [
    "strategies = [\n",
    "    TSCStrategy(TimeSeriesForestClassifier(n_estimators=10), name=\"tsf\"),\n",
    "    TSCStrategy(RandomIntervalSpectralEnsemble(n_estimators=10), name=\"rise\")\n",
    "]"
   ]
  },
  {
   "cell_type": "code",
   "execution_count": 20,
   "id": "fc13044f",
   "metadata": {
    "ExecuteTime": {
     "end_time": "2022-04-03T03:04:57.210600Z",
     "start_time": "2022-04-03T03:04:57.200968Z"
    }
   },
   "outputs": [],
   "source": [
    "results = HDDResults(path=RESULT_PATH)"
   ]
  },
  {
   "cell_type": "code",
   "execution_count": 22,
   "id": "ff34ff40",
   "metadata": {
    "ExecuteTime": {
     "end_time": "2022-04-03T03:06:38.400422Z",
     "start_time": "2022-04-03T03:06:32.271189Z"
    }
   },
   "outputs": [],
   "source": [
    "orchestrator = Orchestrator(\n",
    "    datasets=datasets,\n",
    "    tasks=tasks,\n",
    "    strategies=strategies,\n",
    "    cv=PresplitFilesCV(),\n",
    "    results=results\n",
    ")\n",
    "\n",
    "orchestrator.fit_predict(save_fitted_strategies=False, overwrite_predictions=True)"
   ]
  },
  {
   "cell_type": "code",
   "execution_count": 24,
   "id": "58614895",
   "metadata": {
    "ExecuteTime": {
     "end_time": "2022-04-03T03:08:18.140619Z",
     "start_time": "2022-04-03T03:08:17.852816Z"
    }
   },
   "outputs": [
    {
     "data": {
      "text/html": [
       "<div>\n",
       "<style scoped>\n",
       "    .dataframe tbody tr th:only-of-type {\n",
       "        vertical-align: middle;\n",
       "    }\n",
       "\n",
       "    .dataframe tbody tr th {\n",
       "        vertical-align: top;\n",
       "    }\n",
       "\n",
       "    .dataframe thead th {\n",
       "        text-align: right;\n",
       "    }\n",
       "</style>\n",
       "<table border=\"1\" class=\"dataframe\">\n",
       "  <thead>\n",
       "    <tr style=\"text-align: right;\">\n",
       "      <th></th>\n",
       "      <th>strategy</th>\n",
       "      <th>accuracy_mean</th>\n",
       "      <th>accuracy_stderr</th>\n",
       "    </tr>\n",
       "  </thead>\n",
       "  <tbody>\n",
       "    <tr>\n",
       "      <th>0</th>\n",
       "      <td>rise</td>\n",
       "      <td>0.836560</td>\n",
       "      <td>0.020454</td>\n",
       "    </tr>\n",
       "    <tr>\n",
       "      <th>1</th>\n",
       "      <td>tsf</td>\n",
       "      <td>0.827677</td>\n",
       "      <td>0.020538</td>\n",
       "    </tr>\n",
       "  </tbody>\n",
       "</table>\n",
       "</div>"
      ],
      "text/plain": [
       "  strategy  accuracy_mean  accuracy_stderr\n",
       "0     rise       0.836560         0.020454\n",
       "1      tsf       0.827677         0.020538"
      ]
     },
     "execution_count": 24,
     "metadata": {},
     "output_type": "execute_result"
    }
   ],
   "source": [
    "evaluator = Evaluator(results)\n",
    "metric = PairwiseMetric(func=accuracy_score, name=\"accuracy\")\n",
    "metrics_by_strategy = evaluator.evaluate(metric=metric)\n",
    "metrics_by_strategy"
   ]
  },
  {
   "cell_type": "code",
   "execution_count": 25,
   "id": "11018aa0",
   "metadata": {
    "ExecuteTime": {
     "end_time": "2022-04-03T03:08:40.430649Z",
     "start_time": "2022-04-03T03:08:40.382414Z"
    }
   },
   "outputs": [
    {
     "data": {
      "text/html": [
       "<div>\n",
       "<style scoped>\n",
       "    .dataframe tbody tr th:only-of-type {\n",
       "        vertical-align: middle;\n",
       "    }\n",
       "\n",
       "    .dataframe tbody tr th {\n",
       "        vertical-align: top;\n",
       "    }\n",
       "\n",
       "    .dataframe thead th {\n",
       "        text-align: right;\n",
       "    }\n",
       "</style>\n",
       "<table border=\"1\" class=\"dataframe\">\n",
       "  <thead>\n",
       "    <tr style=\"text-align: right;\">\n",
       "      <th></th>\n",
       "      <th>strategy</th>\n",
       "      <th>accuracy_mean_rank</th>\n",
       "    </tr>\n",
       "  </thead>\n",
       "  <tbody>\n",
       "    <tr>\n",
       "      <th>0</th>\n",
       "      <td>rise</td>\n",
       "      <td>1.5</td>\n",
       "    </tr>\n",
       "    <tr>\n",
       "      <th>1</th>\n",
       "      <td>tsf</td>\n",
       "      <td>1.5</td>\n",
       "    </tr>\n",
       "  </tbody>\n",
       "</table>\n",
       "</div>"
      ],
      "text/plain": [
       "  strategy  accuracy_mean_rank\n",
       "0     rise                 1.5\n",
       "1      tsf                 1.5"
      ]
     },
     "execution_count": 25,
     "metadata": {},
     "output_type": "execute_result"
    }
   ],
   "source": [
    "evaluator.rank()"
   ]
  },
  {
   "cell_type": "code",
   "execution_count": 26,
   "id": "52f40e34",
   "metadata": {
    "ExecuteTime": {
     "end_time": "2022-04-03T03:08:57.890447Z",
     "start_time": "2022-04-03T03:08:57.632433Z"
    }
   },
   "outputs": [
    {
     "data": {
      "text/plain": [
       "(<Figure size 432x288 with 1 Axes>,\n",
       " <AxesSubplot:title={'center':'accuracy by strategy'}, xlabel='strategies', ylabel='accuracy'>)"
      ]
     },
     "execution_count": 26,
     "metadata": {},
     "output_type": "execute_result"
    },
    {
     "data": {
      "image/png": "[encoded data removed]",
      "text/plain": [
       "<Figure size 432x288 with 1 Axes>"
      ]
     },
     "metadata": {},
     "output_type": "display_data"
    }
   ],
   "source": [
    "evaluator.plot_boxplots()"
   ]
  },
  {
   "cell_type": "code",
   "execution_count": 28,
   "id": "3b6b0854",
   "metadata": {
    "ExecuteTime": {
     "end_time": "2022-04-03T03:09:36.760135Z",
     "start_time": "2022-04-03T03:09:36.005000Z"
    }
   },
   "outputs": [
    {
     "name": "stderr",
     "output_type": "stream",
     "text": [
      "C:\\ProgramData\\Miniconda3\\envs\\time_series\\lib\\site-packages\\sktime\\benchmarking\\evaluation.py:207: FutureWarning: The frame.append method is deprecated and will be removed from pandas in a future version. Use pandas.concat instead.\n",
      "  t_df = t_df.append(t_test, ignore_index=True)\n",
      "C:\\ProgramData\\Miniconda3\\envs\\time_series\\lib\\site-packages\\sktime\\benchmarking\\evaluation.py:207: FutureWarning: The frame.append method is deprecated and will be removed from pandas in a future version. Use pandas.concat instead.\n",
      "  t_df = t_df.append(t_test, ignore_index=True)\n",
      "C:\\ProgramData\\Miniconda3\\envs\\time_series\\lib\\site-packages\\sktime\\benchmarking\\evaluation.py:207: FutureWarning: The frame.append method is deprecated and will be removed from pandas in a future version. Use pandas.concat instead.\n",
      "  t_df = t_df.append(t_test, ignore_index=True)\n",
      "C:\\ProgramData\\Miniconda3\\envs\\time_series\\lib\\site-packages\\sktime\\benchmarking\\evaluation.py:207: FutureWarning: The frame.append method is deprecated and will be removed from pandas in a future version. Use pandas.concat instead.\n",
      "  t_df = t_df.append(t_test, ignore_index=True)\n"
     ]
    },
    {
     "data": {
      "text/plain": [
       "(  estimator_1 estimator_2    t_stat     p_val\n",
       " 0        rise        rise  0.000000  1.000000\n",
       " 1        rise         tsf  0.052996  0.962553\n",
       " 2         tsf        rise -0.052996  0.962553\n",
       " 3         tsf         tsf  0.000000  1.000000,\n",
       "           rise                 tsf          \n",
       "         t_stat     p_val    t_stat     p_val\n",
       " rise  0.000000  1.000000  0.052996  0.962553\n",
       " tsf  -0.052996  0.962553  0.000000  1.000000)"
      ]
     },
     "execution_count": 28,
     "metadata": {},
     "output_type": "execute_result"
    }
   ],
   "source": [
    "evaluator.t_test()"
   ]
  },
  {
   "cell_type": "code",
   "execution_count": 29,
   "id": "1339d0e2",
   "metadata": {
    "ExecuteTime": {
     "end_time": "2022-04-03T03:10:09.740459Z",
     "start_time": "2022-04-03T03:10:09.653053Z"
    }
   },
   "outputs": [
    {
     "name": "stderr",
     "output_type": "stream",
     "text": [
      "C:\\ProgramData\\Miniconda3\\envs\\time_series\\lib\\site-packages\\sktime\\benchmarking\\evaluation.py:248: FutureWarning: The frame.append method is deprecated and will be removed from pandas in a future version. Use pandas.concat instead.\n",
      "  sign_df = sign_df.append(sign_test, ignore_index=True)\n",
      "C:\\ProgramData\\Miniconda3\\envs\\time_series\\lib\\site-packages\\sktime\\benchmarking\\evaluation.py:248: FutureWarning: The frame.append method is deprecated and will be removed from pandas in a future version. Use pandas.concat instead.\n",
      "  sign_df = sign_df.append(sign_test, ignore_index=True)\n",
      "C:\\ProgramData\\Miniconda3\\envs\\time_series\\lib\\site-packages\\sktime\\benchmarking\\evaluation.py:248: FutureWarning: The frame.append method is deprecated and will be removed from pandas in a future version. Use pandas.concat instead.\n",
      "  sign_df = sign_df.append(sign_test, ignore_index=True)\n",
      "C:\\ProgramData\\Miniconda3\\envs\\time_series\\lib\\site-packages\\sktime\\benchmarking\\evaluation.py:248: FutureWarning: The frame.append method is deprecated and will be removed from pandas in a future version. Use pandas.concat instead.\n",
      "  sign_df = sign_df.append(sign_test, ignore_index=True)\n"
     ]
    },
    {
     "data": {
      "text/plain": [
       "(  estimator_1 estimator_2  p_val\n",
       " 0        rise        rise    0.5\n",
       " 1        rise         tsf    1.0\n",
       " 2         tsf        rise    1.0\n",
       " 3         tsf         tsf    0.5,\n",
       " estimator_2  rise  tsf\n",
       " estimator_1           \n",
       " rise          0.5  1.0\n",
       " tsf           1.0  0.5)"
      ]
     },
     "execution_count": 29,
     "metadata": {},
     "output_type": "execute_result"
    }
   ],
   "source": [
    "evaluator.sign_test()"
   ]
  },
  {
   "cell_type": "code",
   "execution_count": 30,
   "id": "b1c7dfaf",
   "metadata": {
    "ExecuteTime": {
     "end_time": "2022-04-03T03:10:29.680162Z",
     "start_time": "2022-04-03T03:10:29.588642Z"
    }
   },
   "outputs": [
    {
     "name": "stderr",
     "output_type": "stream",
     "text": [
      "C:\\ProgramData\\Miniconda3\\envs\\time_series\\lib\\site-packages\\sktime\\benchmarking\\evaluation.py:281: FutureWarning: The frame.append method is deprecated and will be removed from pandas in a future version. Use pandas.concat instead.\n",
      "  ranksum_df = ranksum_df.append(ranksum, ignore_index=True)\n",
      "C:\\ProgramData\\Miniconda3\\envs\\time_series\\lib\\site-packages\\sktime\\benchmarking\\evaluation.py:281: FutureWarning: The frame.append method is deprecated and will be removed from pandas in a future version. Use pandas.concat instead.\n",
      "  ranksum_df = ranksum_df.append(ranksum, ignore_index=True)\n",
      "C:\\ProgramData\\Miniconda3\\envs\\time_series\\lib\\site-packages\\sktime\\benchmarking\\evaluation.py:281: FutureWarning: The frame.append method is deprecated and will be removed from pandas in a future version. Use pandas.concat instead.\n",
      "  ranksum_df = ranksum_df.append(ranksum, ignore_index=True)\n",
      "C:\\ProgramData\\Miniconda3\\envs\\time_series\\lib\\site-packages\\sktime\\benchmarking\\evaluation.py:281: FutureWarning: The frame.append method is deprecated and will be removed from pandas in a future version. Use pandas.concat instead.\n",
      "  ranksum_df = ranksum_df.append(ranksum, ignore_index=True)\n"
     ]
    },
    {
     "data": {
      "text/plain": [
       "(  estimator_1 estimator_2  t_stat  p_val\n",
       " 0        rise        rise     0.0    1.0\n",
       " 1        rise         tsf     0.0    1.0\n",
       " 2         tsf        rise     0.0    1.0\n",
       " 3         tsf         tsf     0.0    1.0,\n",
       "        rise          tsf      \n",
       "      t_stat p_val t_stat p_val\n",
       " rise    0.0   1.0    0.0   1.0\n",
       " tsf     0.0   1.0    0.0   1.0)"
      ]
     },
     "execution_count": 30,
     "metadata": {},
     "output_type": "execute_result"
    }
   ],
   "source": [
    "evaluator.ranksum_test()"
   ]
  },
  {
   "cell_type": "code",
   "execution_count": 31,
   "id": "c2a97aa7",
   "metadata": {
    "ExecuteTime": {
     "end_time": "2022-04-03T03:10:48.060316Z",
     "start_time": "2022-04-03T03:10:47.974860Z"
    }
   },
   "outputs": [
    {
     "name": "stderr",
     "output_type": "stream",
     "text": [
      "C:\\ProgramData\\Miniconda3\\envs\\time_series\\lib\\site-packages\\sktime\\benchmarking\\evaluation.py:207: FutureWarning: The frame.append method is deprecated and will be removed from pandas in a future version. Use pandas.concat instead.\n",
      "  t_df = t_df.append(t_test, ignore_index=True)\n",
      "C:\\ProgramData\\Miniconda3\\envs\\time_series\\lib\\site-packages\\sktime\\benchmarking\\evaluation.py:207: FutureWarning: The frame.append method is deprecated and will be removed from pandas in a future version. Use pandas.concat instead.\n",
      "  t_df = t_df.append(t_test, ignore_index=True)\n",
      "C:\\ProgramData\\Miniconda3\\envs\\time_series\\lib\\site-packages\\sktime\\benchmarking\\evaluation.py:207: FutureWarning: The frame.append method is deprecated and will be removed from pandas in a future version. Use pandas.concat instead.\n",
      "  t_df = t_df.append(t_test, ignore_index=True)\n",
      "C:\\ProgramData\\Miniconda3\\envs\\time_series\\lib\\site-packages\\sktime\\benchmarking\\evaluation.py:207: FutureWarning: The frame.append method is deprecated and will be removed from pandas in a future version. Use pandas.concat instead.\n",
      "  t_df = t_df.append(t_test, ignore_index=True)\n"
     ]
    },
    {
     "data": {
      "text/html": [
       "<div>\n",
       "<style scoped>\n",
       "    .dataframe tbody tr th:only-of-type {\n",
       "        vertical-align: middle;\n",
       "    }\n",
       "\n",
       "    .dataframe tbody tr th {\n",
       "        vertical-align: top;\n",
       "    }\n",
       "\n",
       "    .dataframe thead th {\n",
       "        text-align: right;\n",
       "    }\n",
       "</style>\n",
       "<table border=\"1\" class=\"dataframe\">\n",
       "  <thead>\n",
       "    <tr style=\"text-align: right;\">\n",
       "      <th></th>\n",
       "      <th>rise</th>\n",
       "      <th>tsf</th>\n",
       "    </tr>\n",
       "  </thead>\n",
       "  <tbody>\n",
       "    <tr>\n",
       "      <th>rise</th>\n",
       "      <td>False</td>\n",
       "      <td>False</td>\n",
       "    </tr>\n",
       "    <tr>\n",
       "      <th>tsf</th>\n",
       "      <td>False</td>\n",
       "      <td>False</td>\n",
       "    </tr>\n",
       "  </tbody>\n",
       "</table>\n",
       "</div>"
      ],
      "text/plain": [
       "       rise    tsf\n",
       "rise  False  False\n",
       "tsf   False  False"
      ]
     },
     "execution_count": 31,
     "metadata": {},
     "output_type": "execute_result"
    }
   ],
   "source": [
    "evaluator.t_test_with_bonferroni_correction()"
   ]
  },
  {
   "cell_type": "code",
   "execution_count": 32,
   "id": "e674b4f7",
   "metadata": {
    "ExecuteTime": {
     "end_time": "2022-04-03T03:10:54.830389Z",
     "start_time": "2022-04-03T03:10:54.771053Z"
    }
   },
   "outputs": [
    {
     "name": "stderr",
     "output_type": "stream",
     "text": [
      "C:\\ProgramData\\Miniconda3\\envs\\time_series\\lib\\site-packages\\sktime\\benchmarking\\evaluation.py:353: FutureWarning: The frame.append method is deprecated and will be removed from pandas in a future version. Use pandas.concat instead.\n",
      "  wilcoxon_df = wilcoxon_df.append(w_test, ignore_index=True)\n"
     ]
    },
    {
     "data": {
      "text/html": [
       "<div>\n",
       "<style scoped>\n",
       "    .dataframe tbody tr th:only-of-type {\n",
       "        vertical-align: middle;\n",
       "    }\n",
       "\n",
       "    .dataframe tbody tr th {\n",
       "        vertical-align: top;\n",
       "    }\n",
       "\n",
       "    .dataframe thead th {\n",
       "        text-align: right;\n",
       "    }\n",
       "</style>\n",
       "<table border=\"1\" class=\"dataframe\">\n",
       "  <thead>\n",
       "    <tr style=\"text-align: right;\">\n",
       "      <th></th>\n",
       "      <th>estimator_1</th>\n",
       "      <th>estimator_2</th>\n",
       "      <th>statistic</th>\n",
       "      <th>p_val</th>\n",
       "    </tr>\n",
       "  </thead>\n",
       "  <tbody>\n",
       "    <tr>\n",
       "      <th>0</th>\n",
       "      <td>rise</td>\n",
       "      <td>tsf</td>\n",
       "      <td>1.0</td>\n",
       "      <td>1.0</td>\n",
       "    </tr>\n",
       "  </tbody>\n",
       "</table>\n",
       "</div>"
      ],
      "text/plain": [
       "  estimator_1 estimator_2  statistic  p_val\n",
       "0        rise         tsf        1.0    1.0"
      ]
     },
     "execution_count": 32,
     "metadata": {},
     "output_type": "execute_result"
    }
   ],
   "source": [
    "evaluator.wilcoxon_test()"
   ]
  },
  {
   "cell_type": "code",
   "execution_count": 34,
   "id": "55c99c05",
   "metadata": {
    "ExecuteTime": {
     "end_time": "2022-04-03T03:11:20.900336Z",
     "start_time": "2022-04-03T03:11:20.872514Z"
    }
   },
   "outputs": [
    {
     "data": {
      "text/html": [
       "<div>\n",
       "<style scoped>\n",
       "    .dataframe tbody tr th:only-of-type {\n",
       "        vertical-align: middle;\n",
       "    }\n",
       "\n",
       "    .dataframe tbody tr th {\n",
       "        vertical-align: top;\n",
       "    }\n",
       "\n",
       "    .dataframe thead th {\n",
       "        text-align: right;\n",
       "    }\n",
       "</style>\n",
       "<table border=\"1\" class=\"dataframe\">\n",
       "  <thead>\n",
       "    <tr style=\"text-align: right;\">\n",
       "      <th></th>\n",
       "      <th>rise</th>\n",
       "      <th>tsf</th>\n",
       "    </tr>\n",
       "  </thead>\n",
       "  <tbody>\n",
       "    <tr>\n",
       "      <th>rise</th>\n",
       "      <td>1.0</td>\n",
       "      <td>1.0</td>\n",
       "    </tr>\n",
       "    <tr>\n",
       "      <th>tsf</th>\n",
       "      <td>1.0</td>\n",
       "      <td>1.0</td>\n",
       "    </tr>\n",
       "  </tbody>\n",
       "</table>\n",
       "</div>"
      ],
      "text/plain": [
       "      rise  tsf\n",
       "rise   1.0  1.0\n",
       "tsf    1.0  1.0"
      ]
     },
     "execution_count": 34,
     "metadata": {},
     "output_type": "execute_result"
    }
   ],
   "source": [
    "evaluator.nemenyi()"
   ]
  },
  {
   "cell_type": "code",
   "execution_count": 36,
   "id": "9cc574c7",
   "metadata": {
    "ExecuteTime": {
     "end_time": "2022-04-03T03:17:28.050342Z",
     "start_time": "2022-04-03T03:17:28.011001Z"
    }
   },
   "outputs": [
    {
     "data": {
      "text/html": [
       "<div>\n",
       "<style scoped>\n",
       "    .dataframe tbody tr th:only-of-type {\n",
       "        vertical-align: middle;\n",
       "    }\n",
       "\n",
       "    .dataframe tbody tr th {\n",
       "        vertical-align: top;\n",
       "    }\n",
       "\n",
       "    .dataframe thead th {\n",
       "        text-align: right;\n",
       "    }\n",
       "</style>\n",
       "<table border=\"1\" class=\"dataframe\">\n",
       "  <thead>\n",
       "    <tr style=\"text-align: right;\">\n",
       "      <th></th>\n",
       "      <th>index</th>\n",
       "      <th>y_true</th>\n",
       "      <th>y_pred</th>\n",
       "      <th>fit_estimator_start_time</th>\n",
       "      <th>fit_estimator_end_time</th>\n",
       "      <th>predict_estimator_start_time</th>\n",
       "      <th>predict_estimator_end_time</th>\n",
       "    </tr>\n",
       "  </thead>\n",
       "  <tbody>\n",
       "    <tr>\n",
       "      <th>0</th>\n",
       "      <td>36</td>\n",
       "      <td>0</td>\n",
       "      <td>0</td>\n",
       "      <td>2022-04-03 11:06:32.340581</td>\n",
       "      <td>2022-04-03 11:06:32.442372</td>\n",
       "      <td>2022-04-03 11:06:32.442372</td>\n",
       "      <td>2022-04-03 11:06:32.731220</td>\n",
       "    </tr>\n",
       "    <tr>\n",
       "      <th>1</th>\n",
       "      <td>37</td>\n",
       "      <td>0</td>\n",
       "      <td>2</td>\n",
       "      <td>2022-04-03 11:06:32.340581</td>\n",
       "      <td>2022-04-03 11:06:32.442372</td>\n",
       "      <td>2022-04-03 11:06:32.442372</td>\n",
       "      <td>2022-04-03 11:06:32.731220</td>\n",
       "    </tr>\n",
       "    <tr>\n",
       "      <th>2</th>\n",
       "      <td>38</td>\n",
       "      <td>0</td>\n",
       "      <td>0</td>\n",
       "      <td>2022-04-03 11:06:32.340581</td>\n",
       "      <td>2022-04-03 11:06:32.442372</td>\n",
       "      <td>2022-04-03 11:06:32.442372</td>\n",
       "      <td>2022-04-03 11:06:32.731220</td>\n",
       "    </tr>\n",
       "    <tr>\n",
       "      <th>3</th>\n",
       "      <td>39</td>\n",
       "      <td>0</td>\n",
       "      <td>0</td>\n",
       "      <td>2022-04-03 11:06:32.340581</td>\n",
       "      <td>2022-04-03 11:06:32.442372</td>\n",
       "      <td>2022-04-03 11:06:32.442372</td>\n",
       "      <td>2022-04-03 11:06:32.731220</td>\n",
       "    </tr>\n",
       "    <tr>\n",
       "      <th>4</th>\n",
       "      <td>40</td>\n",
       "      <td>0</td>\n",
       "      <td>0</td>\n",
       "      <td>2022-04-03 11:06:32.340581</td>\n",
       "      <td>2022-04-03 11:06:32.442372</td>\n",
       "      <td>2022-04-03 11:06:32.442372</td>\n",
       "      <td>2022-04-03 11:06:32.731220</td>\n",
       "    </tr>\n",
       "    <tr>\n",
       "      <th>...</th>\n",
       "      <td>...</td>\n",
       "      <td>...</td>\n",
       "      <td>...</td>\n",
       "      <td>...</td>\n",
       "      <td>...</td>\n",
       "      <td>...</td>\n",
       "      <td>...</td>\n",
       "    </tr>\n",
       "    <tr>\n",
       "      <th>170</th>\n",
       "      <td>206</td>\n",
       "      <td>2</td>\n",
       "      <td>2</td>\n",
       "      <td>2022-04-03 11:06:32.340581</td>\n",
       "      <td>2022-04-03 11:06:32.442372</td>\n",
       "      <td>2022-04-03 11:06:32.442372</td>\n",
       "      <td>2022-04-03 11:06:32.731220</td>\n",
       "    </tr>\n",
       "    <tr>\n",
       "      <th>171</th>\n",
       "      <td>207</td>\n",
       "      <td>2</td>\n",
       "      <td>2</td>\n",
       "      <td>2022-04-03 11:06:32.340581</td>\n",
       "      <td>2022-04-03 11:06:32.442372</td>\n",
       "      <td>2022-04-03 11:06:32.442372</td>\n",
       "      <td>2022-04-03 11:06:32.731220</td>\n",
       "    </tr>\n",
       "    <tr>\n",
       "      <th>172</th>\n",
       "      <td>208</td>\n",
       "      <td>2</td>\n",
       "      <td>1</td>\n",
       "      <td>2022-04-03 11:06:32.340581</td>\n",
       "      <td>2022-04-03 11:06:32.442372</td>\n",
       "      <td>2022-04-03 11:06:32.442372</td>\n",
       "      <td>2022-04-03 11:06:32.731220</td>\n",
       "    </tr>\n",
       "    <tr>\n",
       "      <th>173</th>\n",
       "      <td>209</td>\n",
       "      <td>2</td>\n",
       "      <td>2</td>\n",
       "      <td>2022-04-03 11:06:32.340581</td>\n",
       "      <td>2022-04-03 11:06:32.442372</td>\n",
       "      <td>2022-04-03 11:06:32.442372</td>\n",
       "      <td>2022-04-03 11:06:32.731220</td>\n",
       "    </tr>\n",
       "    <tr>\n",
       "      <th>174</th>\n",
       "      <td>210</td>\n",
       "      <td>2</td>\n",
       "      <td>2</td>\n",
       "      <td>2022-04-03 11:06:32.340581</td>\n",
       "      <td>2022-04-03 11:06:32.442372</td>\n",
       "      <td>2022-04-03 11:06:32.442372</td>\n",
       "      <td>2022-04-03 11:06:32.731220</td>\n",
       "    </tr>\n",
       "  </tbody>\n",
       "</table>\n",
       "<p>175 rows × 7 columns</p>\n",
       "</div>"
      ],
      "text/plain": [
       "     index  y_true  y_pred    fit_estimator_start_time      fit_estimator_end_time predict_estimator_start_time  predict_estimator_end_time\n",
       "0       36       0       0  2022-04-03 11:06:32.340581  2022-04-03 11:06:32.442372   2022-04-03 11:06:32.442372  2022-04-03 11:06:32.731220\n",
       "1       37       0       2  2022-04-03 11:06:32.340581  2022-04-03 11:06:32.442372   2022-04-03 11:06:32.442372  2022-04-03 11:06:32.731220\n",
       "2       38       0       0  2022-04-03 11:06:32.340581  2022-04-03 11:06:32.442372   2022-04-03 11:06:32.442372  2022-04-03 11:06:32.731220\n",
       "3       39       0       0  2022-04-03 11:06:32.340581  2022-04-03 11:06:32.442372   2022-04-03 11:06:32.442372  2022-04-03 11:06:32.731220\n",
       "4       40       0       0  2022-04-03 11:06:32.340581  2022-04-03 11:06:32.442372   2022-04-03 11:06:32.442372  2022-04-03 11:06:32.731220\n",
       "..     ...     ...     ...                         ...                         ...                          ...                         ...\n",
       "170    206       2       2  2022-04-03 11:06:32.340581  2022-04-03 11:06:32.442372   2022-04-03 11:06:32.442372  2022-04-03 11:06:32.731220\n",
       "171    207       2       2  2022-04-03 11:06:32.340581  2022-04-03 11:06:32.442372   2022-04-03 11:06:32.442372  2022-04-03 11:06:32.731220\n",
       "172    208       2       1  2022-04-03 11:06:32.340581  2022-04-03 11:06:32.442372   2022-04-03 11:06:32.442372  2022-04-03 11:06:32.731220\n",
       "173    209       2       2  2022-04-03 11:06:32.340581  2022-04-03 11:06:32.442372   2022-04-03 11:06:32.442372  2022-04-03 11:06:32.731220\n",
       "174    210       2       2  2022-04-03 11:06:32.340581  2022-04-03 11:06:32.442372   2022-04-03 11:06:32.442372  2022-04-03 11:06:32.731220\n",
       "\n",
       "[175 rows x 7 columns]"
      ]
     },
     "execution_count": 36,
     "metadata": {},
     "output_type": "execute_result"
    }
   ],
   "source": [
    "import pandas as pd\n",
    "\n",
    "df = pd.read_csv(\"results/tsf/ArrowHead/tsf_test_0.csv\")\n",
    "df"
   ]
  },
  {
   "cell_type": "code",
   "execution_count": 38,
   "id": "8a7ef8ce",
   "metadata": {
    "ExecuteTime": {
     "end_time": "2022-04-03T03:18:29.820474Z",
     "start_time": "2022-04-03T03:18:29.740939Z"
    }
   },
   "outputs": [
    {
     "ename": "ValueError",
     "evalue": "No dataset found at path: .\\uea\\uea_TRAIN.ts",
     "output_type": "error",
     "traceback": [
      "\u001b[1;31m---------------------------------------------------------------------------\u001b[0m",
      "\u001b[1;31mValueError\u001b[0m                                Traceback (most recent call last)",
      "Input \u001b[1;32mIn [38]\u001b[0m, in \u001b[0;36m<cell line: 1>\u001b[1;34m()\u001b[0m\n\u001b[1;32m----> 1\u001b[0m \u001b[43mUEADataset\u001b[49m\u001b[43m(\u001b[49m\u001b[38;5;124;43m\"\u001b[39;49m\u001b[38;5;124;43m.\u001b[39;49m\u001b[38;5;124;43m\"\u001b[39;49m\u001b[43m,\u001b[49m\u001b[43m \u001b[49m\u001b[38;5;124;43m\"\u001b[39;49m\u001b[38;5;124;43muea\u001b[39;49m\u001b[38;5;124;43m\"\u001b[39;49m\u001b[43m)\u001b[49m\n",
      "File \u001b[1;32mC:\\ProgramData\\Miniconda3\\envs\\time_series\\lib\\site-packages\\sktime\\benchmarking\\data.py:39\u001b[0m, in \u001b[0;36mUEADataset.__init__\u001b[1;34m(self, path, name, suffix_train, suffix_test, fmt, target_name)\u001b[0m\n\u001b[0;32m     37\u001b[0m filename \u001b[38;5;241m=\u001b[39m os\u001b[38;5;241m.\u001b[39mpath\u001b[38;5;241m.\u001b[39mjoin(\u001b[38;5;28mself\u001b[39m\u001b[38;5;241m.\u001b[39mpath, \u001b[38;5;28mself\u001b[39m\u001b[38;5;241m.\u001b[39mname, \u001b[38;5;28mself\u001b[39m\u001b[38;5;241m.\u001b[39mname)\n\u001b[0;32m     38\u001b[0m \u001b[38;5;28mself\u001b[39m\u001b[38;5;241m.\u001b[39m_train_path \u001b[38;5;241m=\u001b[39m filename \u001b[38;5;241m+\u001b[39m \u001b[38;5;28mself\u001b[39m\u001b[38;5;241m.\u001b[39m_suffix_train \u001b[38;5;241m+\u001b[39m \u001b[38;5;28mself\u001b[39m\u001b[38;5;241m.\u001b[39m_fmt\n\u001b[1;32m---> 39\u001b[0m \u001b[38;5;28;43mself\u001b[39;49m\u001b[38;5;241;43m.\u001b[39;49m\u001b[43m_validate_path\u001b[49m\u001b[43m(\u001b[49m\u001b[38;5;28;43mself\u001b[39;49m\u001b[38;5;241;43m.\u001b[39;49m\u001b[43m_train_path\u001b[49m\u001b[43m)\u001b[49m\n\u001b[0;32m     41\u001b[0m \u001b[38;5;28mself\u001b[39m\u001b[38;5;241m.\u001b[39m_test_path \u001b[38;5;241m=\u001b[39m filename \u001b[38;5;241m+\u001b[39m \u001b[38;5;28mself\u001b[39m\u001b[38;5;241m.\u001b[39m_suffix_test \u001b[38;5;241m+\u001b[39m \u001b[38;5;28mself\u001b[39m\u001b[38;5;241m.\u001b[39m_fmt\n\u001b[0;32m     42\u001b[0m \u001b[38;5;28mself\u001b[39m\u001b[38;5;241m.\u001b[39m_validate_path(\u001b[38;5;28mself\u001b[39m\u001b[38;5;241m.\u001b[39m_test_path)\n",
      "File \u001b[1;32mC:\\ProgramData\\Miniconda3\\envs\\time_series\\lib\\site-packages\\sktime\\benchmarking\\base.py:45\u001b[0m, in \u001b[0;36mHDDBaseDataset._validate_path\u001b[1;34m(path)\u001b[0m\n\u001b[0;32m     43\u001b[0m \u001b[38;5;66;03m# check if path already exists\u001b[39;00m\n\u001b[0;32m     44\u001b[0m \u001b[38;5;28;01mif\u001b[39;00m \u001b[38;5;129;01mnot\u001b[39;00m os\u001b[38;5;241m.\u001b[39mpath\u001b[38;5;241m.\u001b[39mexists(path):\n\u001b[1;32m---> 45\u001b[0m     \u001b[38;5;28;01mraise\u001b[39;00m \u001b[38;5;167;01mValueError\u001b[39;00m(\u001b[38;5;124mf\u001b[39m\u001b[38;5;124m\"\u001b[39m\u001b[38;5;124mNo dataset found at path: \u001b[39m\u001b[38;5;132;01m{\u001b[39;00mpath\u001b[38;5;132;01m}\u001b[39;00m\u001b[38;5;124m\"\u001b[39m)\n",
      "\u001b[1;31mValueError\u001b[0m: No dataset found at path: .\\uea\\uea_TRAIN.ts"
     ]
    }
   ],
   "source": [
    "UEADataset()"
   ]
  },
  {
   "cell_type": "code",
   "execution_count": null,
   "id": "7b4ac5ac",
   "metadata": {},
   "outputs": [],
   "source": []
  }
 ],
 "metadata": {
  "kernelspec": {
   "display_name": "Python [conda env:time_series] *",
   "language": "python",
   "name": "conda-env-time_series-py"
  },
  "language_info": {
   "codemirror_mode": {
    "name": "ipython",
    "version": 3
   },
   "file_extension": ".py",
   "mimetype": "text/x-python",
   "name": "python",
   "nbconvert_exporter": "python",
   "pygments_lexer": "ipython3",
   "version": "3.9.11"
  },
  "nbTranslate": {
   "displayLangs": [
    "*"
   ],
   "hotkey": "alt-t",
   "langInMainMenu": true,
   "sourceLang": "en",
   "targetLang": "fr",
   "useGoogleTranslate": true
  },
  "toc": {
   "base_numbering": 1,
   "nav_menu": {},
   "number_sections": true,
   "sideBar": true,
   "skip_h1_title": false,
   "title_cell": "Table of Contents",
   "title_sidebar": "Contents",
   "toc_cell": false,
   "toc_position": {},
   "toc_section_display": true,
   "toc_window_display": false
  }
 },
 "nbformat": 4,
 "nbformat_minor": 5
}
